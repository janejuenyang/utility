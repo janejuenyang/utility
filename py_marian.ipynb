{
 "cells": [
  {
   "cell_type": "code",
   "execution_count": 1,
   "metadata": {},
   "outputs": [],
   "source": [
    "# import libraries\n",
    "import os\n",
    "import glob\n",
    "import hashlib\n",
    "import re\n",
    "import numpy as np\n",
    "import pandas as pd\n",
    "import matplotlib.pyplot as plt\n",
    "import matplotlib.ticker as mtick\n",
    "import seaborn as sns\n",
    "import datetime\n",
    "from sklearn import linear_model"
   ]
  },
  {
   "cell_type": "code",
   "execution_count": 7,
   "metadata": {},
   "outputs": [],
   "source": [
    "# take multiple strings and join them with a specified delimitor\n",
    "# n.b. as written, deliminated by a space\n",
    "# [equivalent to paste() in R]\n",
    "def paste(*args):\n",
    "    \"\"\" Concatenate multiple strings together into a single line\n",
    "\n",
    "    In Python, if you introduce a line break in a string quotation, it prints\n",
    "    as a literal line break. In order to maintain both code readibility when\n",
    "    writing long strings, e.g. for long graph titles, this function operates\n",
    "    like R's paste() function.\n",
    "\n",
    "    # example:\n",
    "    dt_time = datetime.now() \\n\n",
    "    n_number = 4567 \\n\n",
    "\n",
    "    paste( \\n\n",
    "        'Gratitute Journal entry', \\n\n",
    "        f'{dt_time}:', \\n\n",
    "        'I have', \\n\n",
    "        f'{n_number}', \\n\n",
    "        'things I am looking forward to.', \\n\n",
    "    )\n",
    "\n",
    "    \"\"\"\n",
    "\n",
    "    return ' '.join(args)"
   ]
  },
  {
   "cell_type": "code",
   "execution_count": 11,
   "metadata": {},
   "outputs": [
    {
     "data": {
      "text/plain": [
       "'Gratitute Journal entry 2023-01-23 13:48:37.463559: I have 4567 things I am looking forward to.'"
      ]
     },
     "execution_count": 11,
     "metadata": {},
     "output_type": "execute_result"
    }
   ],
   "source": [
    "dt_time = datetime.datetime.now() \n",
    "n_number = 4567\n",
    "\n",
    "paste( \n",
    "    'Gratitute Journal entry',\n",
    "    f'{dt_time}:',\n",
    "    'I have',\n",
    "    f'{n_number}',\n",
    "    'things I am looking forward to.',\n",
    ")"
   ]
  },
  {
   "cell_type": "code",
   "execution_count": 4,
   "metadata": {},
   "outputs": [],
   "source": [
    "# describe and preview columns in a dataframe\n",
    "# [equivalent to dplyr.glimpse() in R]\n",
    "def glimpse(df: pd.DataFrame):\n",
    "    \"\"\" Describe and preview columns in dataframe\n",
    "\n",
    "    This function mirrors R's dplyr.glimpse() function. It takes in a dataframe\n",
    "    and outputs the following in an easy-to-read format:\n",
    "\n",
    "    1. number of rows\n",
    "    2. number of columns\n",
    "    3. for each column, a preview of the first 5 values\n",
    "\n",
    "    \"\"\"\n",
    "\n",
    "    print(f'Rows: {df.shape[0]}')\n",
    "    print(f'Columns: {df.shape[1]}')\n",
    "    for col in df.columns:\n",
    "        print(f'$ {col} <{df[col].dtype}> {df[col].head().values}')"
   ]
  }
 ],
 "metadata": {
  "kernelspec": {
   "display_name": "base",
   "language": "python",
   "name": "python3"
  },
  "language_info": {
   "codemirror_mode": {
    "name": "ipython",
    "version": 3
   },
   "file_extension": ".py",
   "mimetype": "text/x-python",
   "name": "python",
   "nbconvert_exporter": "python",
   "pygments_lexer": "ipython3",
   "version": "3.9.15"
  },
  "orig_nbformat": 4,
  "vscode": {
   "interpreter": {
    "hash": "b3755b9eea56ac4e93158247cf5d3f51fce0aa4440df1fc2ba5b1c60e93729ad"
   }
  }
 },
 "nbformat": 4,
 "nbformat_minor": 2
}
